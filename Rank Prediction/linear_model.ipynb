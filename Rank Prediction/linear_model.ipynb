{
 "cells": [
  {
   "cell_type": "code",
   "execution_count": 1,
   "metadata": {},
   "outputs": [],
   "source": [
    "import csv\n",
    "import json\n",
    "import sys\n",
    "import codecs\n",
    "import pandas as pd\n",
    "from sklearn import linear_model\n",
    "import matplotlib.pyplot as plt\n",
    "import numpy as np\n",
    "from sklearn import datasets, linear_model\n",
    "from sklearn.metrics import mean_squared_error, r2_score\n",
    "from scipy import sparse as sp\n",
    "from sklearn.model_selection import train_test_split\n",
    "\n",
    "\n",
    "df=pd.read_csv('C:\\\\Users\\Yin Hang\\Desktop\\\\match.csv',sep=',')\n",
    "df2 = df[['DBNOs','damageDealt','killPlace','killStreaks','assists','boosts','heals','kills','headshotKills', 'longestKill','revives','vehicleDestroys', 'rideDistance','swimDistance','walkDistance','weaponsAcquired','winPlace']]\n",
    "\n",
    "\n",
    "x_train = df2.drop('winPlace', axis=1)\n",
    "X_train, X_test, y_train, y_test = train_test_split(x_train, df2[['winPlace']], test_size=0.3, random_state=0)\n",
    "\n",
    "\n"
   ]
  },
  {
   "cell_type": "code",
   "execution_count": 2,
   "metadata": {},
   "outputs": [],
   "source": [
    "regr = linear_model.LinearRegression()\n",
    "regr.fit(X_train, y_train)\n",
    "pred_test = regr.predict(X_test)"
   ]
  },
  {
   "cell_type": "code",
   "execution_count": 3,
   "metadata": {},
   "outputs": [
    {
     "name": "stdout",
     "output_type": "stream",
     "text": [
      "300004\n",
      "300004\n"
     ]
    }
   ],
   "source": [
    "print(len(pred_test))\n",
    "print(len(y_test))\n"
   ]
  },
  {
   "cell_type": "code",
   "execution_count": 4,
   "metadata": {},
   "outputs": [],
   "source": [
    "for e in pred_test:\n",
    "    if e[0] > 100:\n",
    "        e[0] = 100\n",
    "    if e[0] < 1:\n",
    "        e[0] = 1"
   ]
  },
  {
   "cell_type": "code",
   "execution_count": 5,
   "metadata": {},
   "outputs": [],
   "source": [
    "pred_test = pd.DataFrame(pred_test)\n",
    "y_test = pd.DataFrame(y_test)\n",
    "pred_test_list = np.array(pred_test).tolist()\n",
    "y_test_list = np.array(y_test).tolist()"
   ]
  },
  {
   "cell_type": "code",
   "execution_count": 6,
   "metadata": {},
   "outputs": [
    {
     "name": "stdout",
     "output_type": "stream",
     "text": [
      "3.975918653099129\n"
     ]
    }
   ],
   "source": [
    "sum = 0\n",
    "for i in range(0,len(y_test_list)):\n",
    "    sum += abs(y_test_list[i][0]-pred_test_list[i][0])\n",
    "avg = sum/len(y_test_list)\n",
    "print(avg)"
   ]
  },
  {
   "cell_type": "code",
   "execution_count": 12,
   "metadata": {},
   "outputs": [
    {
     "name": "stdout",
     "output_type": "stream",
     "text": [
      "{\n",
      " \"DBNOs\": -0.5831792179181754,\n",
      " \"damageDealt\": 0.00034004438690527026,\n",
      " \"killPlace\": 0.21676405815290029,\n",
      " \"killStreaks\": 4.204678423149867,\n",
      " \"assists\": -0.5399270032216243,\n",
      " \"boosts\": -0.2513945028383075,\n",
      " \"heals\": -0.05947513566852277,\n",
      " \"kills\": 0.7099821973103484,\n",
      " \"headshotKills\": -0.07081581916342612,\n",
      " \"longestKill\": 0.004827317105262071,\n",
      " \"revives\": -0.5676064223962927,\n",
      " \"vehicleDestroys\": -0.32491265355333154,\n",
      " \"rideDistance\": -0.00014749571482121024,\n",
      " \"swimDistance\": -0.0030504464013351674,\n",
      " \"walkDistance\": -0.003908072165739754,\n",
      " \"weaponsAcquired\": -0.3869111355720982\n",
      "}\n"
     ]
    }
   ],
   "source": [
    "a = ['DBNOs','damageDealt','killPlace','killStreaks','assists','boosts','heals','kills','headshotKills', 'longestKill','revives','vehicleDestroys', 'rideDistance','swimDistance','walkDistance','weaponsAcquired','winPlace']\n",
    "res = {}\n",
    "i = 0\n",
    "for e in regr.coef_[0]:\n",
    "    res[a[i]] = e\n",
    "    i = i+1\n",
    "\n",
    "print(json.dumps(res,indent=1))\n",
    "\n",
    "\n"
   ]
  },
  {
   "cell_type": "code",
   "execution_count": null,
   "metadata": {},
   "outputs": [],
   "source": []
  }
 ],
 "metadata": {
  "kernelspec": {
   "display_name": "Python 3",
   "language": "python",
   "name": "python3"
  },
  "language_info": {
   "codemirror_mode": {
    "name": "ipython",
    "version": 3
   },
   "file_extension": ".py",
   "mimetype": "text/x-python",
   "name": "python",
   "nbconvert_exporter": "python",
   "pygments_lexer": "ipython3",
   "version": "3.7.0"
  }
 },
 "nbformat": 4,
 "nbformat_minor": 2
}
