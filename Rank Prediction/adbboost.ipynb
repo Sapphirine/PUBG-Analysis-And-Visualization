{
 "cells": [
  {
   "cell_type": "code",
   "execution_count": 1,
   "metadata": {},
   "outputs": [],
   "source": [
    "import csv\n",
    "import json\n",
    "import sys\n",
    "import codecs\n",
    "import pandas as pd\n",
    "from sklearn import linear_model\n",
    "import matplotlib.pyplot as plt\n",
    "import numpy as np\n",
    "from sklearn import datasets, linear_model\n",
    "from sklearn.metrics import mean_squared_error, r2_score\n",
    "from scipy import sparse as sp\n",
    "from sklearn.model_selection import train_test_split\n",
    "from sklearn.ensemble import RandomForestRegressor\n",
    "from sklearn.metrics import mean_squared_error\n",
    "from sklearn.ensemble import AdaBoostRegressor\n",
    "\n",
    "\n",
    "\n",
    "df=pd.read_csv('C:\\\\Users\\Yin Hang\\Desktop\\\\match.csv',sep=',')\n",
    "df2 = df[['DBNOs','damageDealt','killPlace','killStreaks','assists','boosts','heals','kills','headshotKills', 'longestKill','revives','vehicleDestroys', 'rideDistance','swimDistance','walkDistance','weaponsAcquired','winPlace']]\n",
    "\n",
    "\n",
    "x_train = df2.drop('winPlace', axis=1)\n",
    "X_train, X_test, y_train, y_test = train_test_split(x_train, df2[['winPlace']], test_size=0.3, random_state=0)\n"
   ]
  },
  {
   "cell_type": "code",
   "execution_count": 3,
   "metadata": {},
   "outputs": [
    {
     "name": "stderr",
     "output_type": "stream",
     "text": [
      "c:\\users\\yin hang\\appdata\\local\\programs\\python\\python37-32\\lib\\site-packages\\sklearn\\utils\\validation.py:761: DataConversionWarning: A column-vector y was passed when a 1d array was expected. Please change the shape of y to (n_samples, ), for example using ravel().\n",
      "  y = column_or_1d(y, warn=True)\n"
     ]
    }
   ],
   "source": [
    "# define regressor\n",
    "from sklearn.tree import DecisionTreeRegressor\n",
    "# randomForest_regr = DecisionTreeRegressor(max_depth=4)\n",
    "rng = np.random.RandomState(1)\n",
    "X = np.linspace(0, 6, 100)[:, np.newaxis]\n",
    "y = np.sin(X).ravel() + np.sin(6 * X).ravel() + rng.normal(0, 0.1, X.shape[0])\n",
    "randomForest_regr = AdaBoostRegressor(DecisionTreeRegressor(max_depth=4),\n",
    "                          n_estimators=300, random_state=rng)\n",
    "randomForest_regr.fit(X_train, y_train)\n",
    "pred_test = randomForest_regr.predict(X_test)\n"
   ]
  },
  {
   "cell_type": "code",
   "execution_count": 4,
   "metadata": {},
   "outputs": [
    {
     "name": "stdout",
     "output_type": "stream",
     "text": [
      "300004\n",
      "300004\n"
     ]
    }
   ],
   "source": [
    "print(len(pred_test))\n",
    "print(len(y_test))\n"
   ]
  },
  {
   "cell_type": "code",
   "execution_count": 5,
   "metadata": {},
   "outputs": [],
   "source": [
    "for e in pred_test:\n",
    "    if e > 100:\n",
    "        e = 100\n",
    "    if e < 1:\n",
    "        e = 1"
   ]
  },
  {
   "cell_type": "code",
   "execution_count": 6,
   "metadata": {},
   "outputs": [],
   "source": [
    "pred_test = pd.DataFrame(pred_test)\n",
    "y_test = pd.DataFrame(y_test)\n",
    "pred_test_list = np.array(pred_test).tolist()\n",
    "y_test_list = np.array(y_test).tolist()"
   ]
  },
  {
   "cell_type": "code",
   "execution_count": 7,
   "metadata": {},
   "outputs": [
    {
     "name": "stdout",
     "output_type": "stream",
     "text": [
      "8.19592932238685\n"
     ]
    }
   ],
   "source": [
    "sum = 0\n",
    "for i in range(0,len(y_test_list)):\n",
    "    sum += abs(y_test_list[i][0]-pred_test_list[i][0])\n",
    "avg = sum/len(y_test_list)\n",
    "print(avg)"
   ]
  },
  {
   "cell_type": "code",
   "execution_count": null,
   "metadata": {},
   "outputs": [],
   "source": []
  }
 ],
 "metadata": {
  "kernelspec": {
   "display_name": "Python 3",
   "language": "python",
   "name": "python3"
  },
  "language_info": {
   "codemirror_mode": {
    "name": "ipython",
    "version": 3
   },
   "file_extension": ".py",
   "mimetype": "text/x-python",
   "name": "python",
   "nbconvert_exporter": "python",
   "pygments_lexer": "ipython3",
   "version": "3.7.0"
  }
 },
 "nbformat": 4,
 "nbformat_minor": 2
}
